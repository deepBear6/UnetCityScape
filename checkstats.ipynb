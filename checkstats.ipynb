{
 "cells": [
  {
   "cell_type": "code",
   "execution_count": 3,
   "metadata": {},
   "outputs": [],
   "source": [
    "import torch\n",
    "import os"
   ]
  },
  {
   "cell_type": "code",
   "execution_count": 4,
   "metadata": {},
   "outputs": [
    {
     "name": "stdout",
     "output_type": "stream",
     "text": [
      "name: unet_epoch_10.pt, train_loss: 1.5941500054892672, test_loss 1.6071421466767788\n",
      "name: unet_epoch_20.pt, train_loss: 1.5600481462735, test_loss 1.6036090962588787\n",
      "name: unet_epoch_30.pt, train_loss: 1.5446777651386876, test_loss 1.5736803635954857\n",
      "name: unet_epoch_40.pt, train_loss: 1.5303371176924756, test_loss 1.5778804309666157\n",
      "name: unet_epoch_50.pt, train_loss: 1.517268865980128, test_loss 1.5686235018074512\n",
      "name: unet_epoch_60+10.pt, train_loss: 1.4919772641633147, test_loss 1.5532751977443695\n",
      "name: unet_epoch_60+100.pt, train_loss: 1.42777132731612, test_loss 1.5479559935629368\n",
      "name: unet_epoch_60+110.pt, train_loss: 1.4248188554599721, test_loss 1.5502530746161938\n",
      "name: unet_epoch_60+120.pt, train_loss: 1.4223700736158638, test_loss 1.5488432832062244\n",
      "name: unet_epoch_60+130.pt, train_loss: 1.419950855675564, test_loss 1.553105916827917\n",
      "name: unet_epoch_60+140.pt, train_loss: 1.4185913922966167, test_loss 1.5467096231877804\n",
      "name: unet_epoch_60+150.pt, train_loss: 1.4163912425759018, test_loss 1.5510666072368622\n",
      "name: unet_epoch_60+160.pt, train_loss: 1.4143890430850368, test_loss 1.5496576353907585\n",
      "name: unet_epoch_60+170.pt, train_loss: 1.4121362836130205, test_loss 1.5542785301804543\n",
      "name: unet_epoch_60+20.pt, train_loss: 1.479483078243912, test_loss 1.5624571964144707\n",
      "name: unet_epoch_60+30.pt, train_loss: 1.4681253939546564, test_loss 1.5532965511083603\n",
      "name: unet_epoch_60+40.pt, train_loss: 1.4600611566215433, test_loss 1.5560120604932308\n",
      "name: unet_epoch_60+50.pt, train_loss: 1.4514052342343073, test_loss 1.5560437850654125\n",
      "name: unet_epoch_60+60.pt, train_loss: 1.4446625196805565, test_loss 1.5435273423790932\n",
      "name: unet_epoch_60+70.pt, train_loss: 1.4401224274789133, test_loss 1.5516510419547558\n",
      "name: unet_epoch_60+80.pt, train_loss: 1.4346222928775254, test_loss 1.5464094392955303\n",
      "name: unet_epoch_60+90.pt, train_loss: 1.4311814461984942, test_loss 1.543943103402853\n",
      "name: unet_epoch_60.pt, train_loss: 1.5032064940339775, test_loss 1.565181627869606\n"
     ]
    }
   ],
   "source": [
    "pathm = \"saved_models\"\n",
    "for model in sorted(os.listdir(pathm)):\n",
    "    model_dict = torch.load(os.path.join(pathm, model))\n",
    "    print(f\"name: {model}, train_loss: {model_dict['training_loss']}, test_loss {model_dict['test_loss']}\")"
   ]
  },
  {
   "cell_type": "code",
   "execution_count": null,
   "metadata": {},
   "outputs": [],
   "source": []
  }
 ],
 "metadata": {
  "kernelspec": {
   "display_name": "Python 3",
   "language": "python",
   "name": "python3"
  },
  "language_info": {
   "codemirror_mode": {
    "name": "ipython",
    "version": 3
   },
   "file_extension": ".py",
   "mimetype": "text/x-python",
   "name": "python",
   "nbconvert_exporter": "python",
   "pygments_lexer": "ipython3",
   "version": "3.7.1"
  }
 },
 "nbformat": 4,
 "nbformat_minor": 2
}
